{
 "cells": [
  {
   "cell_type": "markdown",
   "metadata": {},
   "source": [
    "## HLA-zoo"
   ]
  },
  {
   "cell_type": "code",
   "execution_count": 9,
   "metadata": {},
   "outputs": [],
   "source": [
    "import sys\n",
    "import json\n",
    "from pathlib import Path\n",
    "\n",
    "# add parent folder to the path\n",
    "module_path = str(Path.cwd().parents[0])\n",
    "if module_path not in sys.path:\n",
    "    sys.path.append(module_path)\n",
    "\n",
    "import pandas as pd \n",
    "import seaborn as sns\n",
    "import matplotlib.pyplot as plt\n",
    "from utils.load_gaf import load_gaf, ABBV"
   ]
  },
  {
   "cell_type": "code",
   "execution_count": 19,
   "metadata": {},
   "outputs": [],
   "source": [
    "PATH_PGGB=Path(\"/data/pangeblocks-experiments/alignment-simulated-reads-HLA-zoo/pggb\")\n",
    "tool=PATH_PGGB.stem\n",
    "with open(Path(PATH_PGGB).joinpath(\"gfaid_to_paths.json\")) as fp:\n",
    "    gfaid_to_paths=json.load(fp)"
   ]
  },
  {
   "cell_type": "code",
   "execution_count": 16,
   "metadata": {},
   "outputs": [],
   "source": [
    "path_gaf = list(Path(PATH_PGGB).rglob(\"*.gaf\"))[0]\n",
    "seqsid, gfaid, _ = path_gaf.stem.split(\".\")\n",
    "gfaid = gfaid.replace(\"gfaid\",\"\")\n",
    "path_gfa = gfaid_to_paths[gfaid]"
   ]
  },
  {
   "cell_type": "code",
   "execution_count": 17,
   "metadata": {},
   "outputs": [],
   "source": [
    "gaf = load_gaf(path_gaf=path_gaf, path_gfa=path_gfa)"
   ]
  },
  {
   "cell_type": "code",
   "execution_count": 24,
   "metadata": {},
   "outputs": [],
   "source": [
    "gaf[\"seqsid\"] = seqsid \n",
    "gaf[\"tool\"] = tool\n",
    "gaf[\"gfa\"] = path_gfa"
   ]
  },
  {
   "cell_type": "code",
   "execution_count": null,
   "metadata": {},
   "outputs": [],
   "source": []
  }
 ],
 "metadata": {
  "kernelspec": {
   "display_name": "plots",
   "language": "python",
   "name": "python3"
  },
  "language_info": {
   "codemirror_mode": {
    "name": "ipython",
    "version": 3
   },
   "file_extension": ".py",
   "mimetype": "text/x-python",
   "name": "python",
   "nbconvert_exporter": "python",
   "pygments_lexer": "ipython3",
   "version": "3.11.0"
  },
  "orig_nbformat": 4
 },
 "nbformat": 4,
 "nbformat_minor": 2
}
