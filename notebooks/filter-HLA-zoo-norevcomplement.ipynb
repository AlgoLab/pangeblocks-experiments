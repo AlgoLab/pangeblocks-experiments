{
 "cells": [
  {
   "attachments": {},
   "cell_type": "markdown",
   "metadata": {},
   "source": [
    "Remove sequences from HLA-zoo dataset that are labeled with the reverse complement in pggb \n",
    "\n",
    "the list of files and the id sequence that must be removed are in this file `HLA-zoo.to_remove.txt`"
   ]
  },
  {
   "cell_type": "code",
   "execution_count": 65,
   "metadata": {},
   "outputs": [],
   "source": [
    "from pathlib import Path\n",
    "from collections import defaultdict\n",
    "from Bio import SeqIO\n",
    "from shutil import copyfile"
   ]
  },
  {
   "cell_type": "code",
   "execution_count": 66,
   "metadata": {},
   "outputs": [],
   "source": [
    "OUTDIR=Path(\"/data/HLA-zoo/no-reverse-complement\")\n",
    "OUTDIR.mkdir(exist_ok=True, parents=True)\n",
    "PATH_SEQS=list(Path(\"/home/avila/HLA-zoo/seqs\").glob(\"*.fa\"))"
   ]
  },
  {
   "cell_type": "code",
   "execution_count": 67,
   "metadata": {},
   "outputs": [],
   "source": [
    "# get id to remove for each fasta file\n",
    "to_remove = defaultdict(list)\n",
    "with open(\"../HLA-zoo.to_remove.txt\") as fp:\n",
    "    for line in fp.readlines():\n",
    "        path_gfa_pggb, id_fasta, id_to_remove = line.replace(\"\\n\",\"\").split(\",\")\n",
    "        to_remove[id_fasta].append(id_to_remove)"
   ]
  },
  {
   "cell_type": "code",
   "execution_count": 68,
   "metadata": {},
   "outputs": [
    {
     "data": {
      "text/plain": [
       "defaultdict(list,\n",
       "            {'B-3106': ['gi|299782605:5000-8340'],\n",
       "             'C-3107': ['gi|342187247:4995-8382'],\n",
       "             'DMA-3108': ['gi|236459249:5000-9508'],\n",
       "             'DOA-3111': ['gi|236459287:5000-10430'],\n",
       "             'DOB-3112': ['gi|236459349:5000-9285',\n",
       "              'gi|530354716:26722-31007'],\n",
       "             'DPA1-3113': ['gi|501355759:5000-21209'],\n",
       "             'DQB1-3119': ['gi|345525393:5000-12600'],\n",
       "             'DRA-3122': ['gi|568815572:9686-14890'],\n",
       "             'DRB1-3123': ['gi|345525392:5000-18402'],\n",
       "             'TAP1-6890': ['gi|226246635:5000-13762'],\n",
       "             'TAP2-6891': ['gi|530354716:4947-21937']})"
      ]
     },
     "execution_count": 68,
     "metadata": {},
     "output_type": "execute_result"
    }
   ],
   "source": [
    "to_remove"
   ]
  },
  {
   "cell_type": "code",
   "execution_count": 69,
   "metadata": {},
   "outputs": [
    {
     "name": "stdout",
     "output_type": "stream",
     "text": [
      "['gi|530354716:4947-21937']\n",
      "['gi|299782605:5000-8340']\n",
      "['gi|342187247:4995-8382']\n",
      "['gi|236459349:5000-9285', 'gi|530354716:26722-31007']\n",
      "['gi|345525393:5000-12600']\n",
      "['gi|501355759:5000-21209']\n",
      "['gi|345525392:5000-18402']\n",
      "['gi|226246635:5000-13762']\n",
      "['gi|236459249:5000-9508']\n",
      "['gi|236459287:5000-10430']\n",
      "['gi|568815572:9686-14890']\n"
     ]
    }
   ],
   "source": [
    "for fasta in PATH_SEQS:\n",
    "    id_remove = to_remove.get(fasta.stem,[])\n",
    "    if id_remove:\n",
    "        # remove sequence(s) from file  and save it \n",
    "        print(id_remove)\n",
    "        new_fasta = []\n",
    "        for record in SeqIO.parse(fasta, \"fasta\"): \n",
    "            if record.id not in id_remove:\n",
    "                new_fasta.append(record)\n",
    "\n",
    "        SeqIO.write(new_fasta, OUTDIR.joinpath(fasta.stem + \".fa\"), \"fasta\")    \n",
    "\n",
    "    else:\n",
    "        # copy file to the new folder\n",
    "        src = fasta\n",
    "        dest = OUTDIR.joinpath(fasta.stem + \".fa\")\n",
    "        copyfile(src, dest)"
   ]
  }
 ],
 "metadata": {
  "kernelspec": {
   "display_name": "plots",
   "language": "python",
   "name": "python3"
  },
  "language_info": {
   "codemirror_mode": {
    "name": "ipython",
    "version": 3
   },
   "file_extension": ".py",
   "mimetype": "text/x-python",
   "name": "python",
   "nbconvert_exporter": "python",
   "pygments_lexer": "ipython3",
   "version": "3.11.0"
  },
  "orig_nbformat": 4
 },
 "nbformat": 4,
 "nbformat_minor": 2
}
