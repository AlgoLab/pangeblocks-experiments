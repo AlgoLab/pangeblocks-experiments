{
 "cells": [
  {
   "cell_type": "markdown",
   "metadata": {},
   "source": [
    "Remove sequences from the MSAs that were assigned to paths using the reverse and complement of the nodes in the HLA-zoo dataset by pggb"
   ]
  },
  {
   "cell_type": "code",
   "execution_count": 1,
   "metadata": {},
   "outputs": [],
   "source": [
    "from pathlib import Path\n",
    "from collections import defaultdict\n",
    "from Bio import AlignIO\n",
    "from Bio import SeqIO\n",
    "from Bio.Align import MultipleSeqAlignment\n",
    "from tqdm import tqdm\n",
    "\n",
    "PATH_MSAS=\"/data/msas-pangeblocks/msas-HLA-zoo\""
   ]
  },
  {
   "cell_type": "code",
   "execution_count": 2,
   "metadata": {},
   "outputs": [
    {
     "data": {
      "text/plain": [
       "defaultdict(list,\n",
       "            {'B-3106': ['gi|299782605:5000-8340'],\n",
       "             'C-3107': ['gi|342187247:4995-8382'],\n",
       "             'DMA-3108': ['gi|236459249:5000-9508'],\n",
       "             'DOA-3111': ['gi|236459287:5000-10430'],\n",
       "             'DOB-3112': ['gi|236459349:5000-9285',\n",
       "              'gi|530354716:26722-31007'],\n",
       "             'DPA1-3113': ['gi|501355759:5000-21209'],\n",
       "             'DQB1-3119': ['gi|345525393:5000-12600'],\n",
       "             'DRA-3122': ['gi|568815572:9686-14890'],\n",
       "             'DRB1-3123': ['gi|345525392:5000-18402'],\n",
       "             'TAP1-6890': ['gi|226246635:5000-13762'],\n",
       "             'TAP2-6891': ['gi|530354716:4947-21937']})"
      ]
     },
     "execution_count": 2,
     "metadata": {},
     "output_type": "execute_result"
    }
   ],
   "source": [
    "toremove=defaultdict(list)\n",
    "with open(\"../HLA-zoo.to_remove.txt\") as fp:\n",
    "    for line in fp:\n",
    "        path_gfa, nameseqs, idseq = line.replace(\"\\n\",\"\").split(\",\")\n",
    "        toremove[nameseqs].append(idseq) \n",
    "toremove"
   ]
  },
  {
   "cell_type": "code",
   "execution_count": 3,
   "metadata": {},
   "outputs": [],
   "source": [
    "msas_to_edit = [p for p in Path(PATH_MSAS).glob(f\"*/*.fa\") if p.stem in toremove.keys()]"
   ]
  },
  {
   "cell_type": "code",
   "execution_count": 10,
   "metadata": {},
   "outputs": [
    {
     "name": "stdout",
     "output_type": "stream",
     "text": [
      "DOB-3112 /data/msas-pangeblocks/msas-HLA-zoo/mafft.op5-ep0/DOB-3112.fa\n",
      "8 10\n",
      "TAP1-6890 /data/msas-pangeblocks/msas-HLA-zoo/mafft.op5-ep0/TAP1-6890.fa\n",
      "10 11\n",
      "C-3107 /data/msas-pangeblocks/msas-HLA-zoo/mafft.op5-ep0/C-3107.fa\n",
      "9 10\n",
      "DQB1-3119 /data/msas-pangeblocks/msas-HLA-zoo/mafft.op5-ep0/DQB1-3119.fa\n",
      "9 10\n",
      "DPA1-3113 /data/msas-pangeblocks/msas-HLA-zoo/mafft.op5-ep0/DPA1-3113.fa\n",
      "10 11\n",
      "DRB1-3123 /data/msas-pangeblocks/msas-HLA-zoo/mafft.op5-ep0/DRB1-3123.fa\n",
      "11 12\n",
      "DMA-3108 /data/msas-pangeblocks/msas-HLA-zoo/mafft.op5-ep0/DMA-3108.fa\n",
      "10 11\n",
      "DOA-3111 /data/msas-pangeblocks/msas-HLA-zoo/mafft.op5-ep0/DOA-3111.fa\n",
      "9 10\n",
      "TAP2-6891 /data/msas-pangeblocks/msas-HLA-zoo/mafft.op5-ep0/TAP2-6891.fa\n",
      "10 11\n",
      "B-3106 /data/msas-pangeblocks/msas-HLA-zoo/mafft.op5-ep0/B-3106.fa\n",
      "8 9\n",
      "DRA-3122 /data/msas-pangeblocks/msas-HLA-zoo/mafft.op5-ep0/DRA-3122.fa\n",
      "10 11\n",
      "TAP2-6891 /data/msas-pangeblocks/msas-HLA-zoo/mafft.op1.53-ep0/TAP2-6891.fa\n",
      "10 11\n",
      "DPA1-3113 /data/msas-pangeblocks/msas-HLA-zoo/mafft.op1.53-ep0/DPA1-3113.fa\n",
      "10 11\n",
      "DRB1-3123 /data/msas-pangeblocks/msas-HLA-zoo/mafft.op1.53-ep0/DRB1-3123.fa\n",
      "11 12\n",
      "DQB1-3119 /data/msas-pangeblocks/msas-HLA-zoo/mafft.op1.53-ep0/DQB1-3119.fa\n",
      "9 10\n",
      "DOB-3112 /data/msas-pangeblocks/msas-HLA-zoo/mafft.op1.53-ep0/DOB-3112.fa\n",
      "8 10\n",
      "C-3107 /data/msas-pangeblocks/msas-HLA-zoo/mafft.op1.53-ep0/C-3107.fa\n",
      "9 10\n",
      "TAP1-6890 /data/msas-pangeblocks/msas-HLA-zoo/mafft.op1.53-ep0/TAP1-6890.fa\n",
      "10 11\n",
      "DRA-3122 /data/msas-pangeblocks/msas-HLA-zoo/mafft.op1.53-ep0/DRA-3122.fa\n",
      "10 11\n",
      "DMA-3108 /data/msas-pangeblocks/msas-HLA-zoo/mafft.op1.53-ep0/DMA-3108.fa\n",
      "10 11\n",
      "B-3106 /data/msas-pangeblocks/msas-HLA-zoo/mafft.op1.53-ep0/B-3106.fa\n",
      "8 9\n",
      "DOA-3111 /data/msas-pangeblocks/msas-HLA-zoo/mafft.op1.53-ep0/DOA-3111.fa\n",
      "9 10\n",
      "TAP1-6890 /data/msas-pangeblocks/msas-HLA-zoo/mafft.op3-ep0/TAP1-6890.fa\n",
      "10 11\n",
      "DMA-3108 /data/msas-pangeblocks/msas-HLA-zoo/mafft.op3-ep0/DMA-3108.fa\n",
      "10 11\n",
      "DOA-3111 /data/msas-pangeblocks/msas-HLA-zoo/mafft.op3-ep0/DOA-3111.fa\n",
      "9 10\n",
      "DRA-3122 /data/msas-pangeblocks/msas-HLA-zoo/mafft.op3-ep0/DRA-3122.fa\n",
      "10 11\n",
      "C-3107 /data/msas-pangeblocks/msas-HLA-zoo/mafft.op3-ep0/C-3107.fa\n",
      "9 10\n",
      "TAP2-6891 /data/msas-pangeblocks/msas-HLA-zoo/mafft.op3-ep0/TAP2-6891.fa\n",
      "10 11\n",
      "DRB1-3123 /data/msas-pangeblocks/msas-HLA-zoo/mafft.op3-ep0/DRB1-3123.fa\n",
      "11 12\n",
      "DPA1-3113 /data/msas-pangeblocks/msas-HLA-zoo/mafft.op3-ep0/DPA1-3113.fa\n",
      "10 11\n",
      "DOB-3112 /data/msas-pangeblocks/msas-HLA-zoo/mafft.op3-ep0/DOB-3112.fa\n",
      "8 10\n",
      "DQB1-3119 /data/msas-pangeblocks/msas-HLA-zoo/mafft.op3-ep0/DQB1-3119.fa\n",
      "9 10\n",
      "B-3106 /data/msas-pangeblocks/msas-HLA-zoo/mafft.op3-ep0/B-3106.fa\n",
      "8 9\n"
     ]
    }
   ],
   "source": [
    "for path_msa in msas_to_edit:\n",
    "    nameseqs=path_msa.stem\n",
    "    print(nameseqs, path_msa)\n",
    "    new_msa=[]\n",
    "    n_records=0\n",
    "    for record in AlignIO.read(path_msa, \"fasta\"):\n",
    "        if record.id not in toremove[nameseqs]:\n",
    "            new_msa.append(record)\n",
    "        n_records+=1\n",
    "\n",
    "    print(len(new_msa), n_records)\n",
    "\n",
    "    \n",
    "    path_save=path_msa.parent.joinpath(f\"norevcomplement/{nameseqs}.fa\")\n",
    "    path_save.parent.mkdir(exist_ok=True, parents=True)\n",
    "    msa=MultipleSeqAlignment(new_msa)\n",
    "    AlignIO.write(msa,path_save,\"fasta\")"
   ]
  },
  {
   "cell_type": "code",
   "execution_count": 5,
   "metadata": {},
   "outputs": [
    {
     "data": {
      "text/plain": [
       "'B-3106'"
      ]
     },
     "execution_count": 5,
     "metadata": {},
     "output_type": "execute_result"
    }
   ],
   "source": [
    "path_msa.stem"
   ]
  },
  {
   "cell_type": "code",
   "execution_count": 6,
   "metadata": {},
   "outputs": [
    {
     "name": "stdout",
     "output_type": "stream",
     "text": [
      "Alignment with 9 rows and 4431 columns\n",
      "attctggaaggttctcaggtctttatttgctctctcaaattcca...--- gi|568815592:31353871-31357211\n",
      "attctggaaggttctcaggtctttatttgctctctcaaattcca...--- gi|568815529:2834231-2837570\n",
      "attctggaaggttctcaggtctttatttgctctctcaaattcca...--- gi|568815561:2662483-2665823\n",
      "attctggaaggttctcaggtctttatttgctctttcaaattcca...--- gi|568815564:2695843-2699207\n",
      "attctggaaggttctcaggtctttatttgctctctcaaattcca...gca gi|568815567:2609568-2613542\n",
      "attctggaaggttctcaggtctttatttgctctctcaaattcca...--- gi|568815569:2656109-2659449\n",
      "--------cagttctaaagtccccacgcacccacccggactcag...--- gi|299782605:5000-8340\n",
      "attctggaaagttctcaggtctttatttgctctctcacattcca...--- gi|528476637:31323556-31326919\n",
      "attctggaaggttctcaggtctttatttgctctctcaaattcca...--- gi|157734152:31112050-31115392\n"
     ]
    }
   ],
   "source": [
    "print(MultipleSeqAlignment(new_msa))"
   ]
  },
  {
   "cell_type": "code",
   "execution_count": 7,
   "metadata": {},
   "outputs": [],
   "source": [
    "# path_save=path_msa.parent.joinpath(f\"norevcomplement/{nameseqs}.fa\")\n",
    "# path_save.parent.mkdir(exist_ok=True, parents=True)\n",
    "# msa=MultipleSeqAlignment(new_msa)\n",
    "# AlignIO.write(msa,path_save,\"fasta\")\n"
   ]
  }
 ],
 "metadata": {
  "kernelspec": {
   "display_name": "plots",
   "language": "python",
   "name": "python3"
  },
  "language_info": {
   "codemirror_mode": {
    "name": "ipython",
    "version": 3
   },
   "file_extension": ".py",
   "mimetype": "text/x-python",
   "name": "python",
   "nbconvert_exporter": "python",
   "pygments_lexer": "ipython3",
   "version": "3.11.0"
  },
  "orig_nbformat": 4
 },
 "nbformat": 4,
 "nbformat_minor": 2
}
